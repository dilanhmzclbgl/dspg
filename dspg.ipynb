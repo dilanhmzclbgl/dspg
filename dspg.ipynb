{
 "cells": [
  {
   "cell_type": "code",
   "execution_count": 1,
   "metadata": {},
   "outputs": [
    {
     "name": "stdout",
     "output_type": "stream",
     "text": [
      "['bulgur', 'pirinc', 'makarna', 'bezelye', 'paketsayisi', 20, 30, 50, 70, 'kilo', 10, 15, 25, 35]\n"
     ]
    }
   ],
   "source": [
    "stok= [ ['bulgur','pirinc','makarna','bezelye'], 'paketsayisi', 20,30,50,70 , 'kilo', 10,15,25,35 ]\n",
    "dznlm=[]\n",
    "for deger in stok:\n",
    "    if hasattr(deger,\"__iter__\"):\n",
    "        dznlm.extend(deger)\n",
    "    else:\n",
    "        dznlm.append(deger)\n",
    "print(dznlm)"
   ]
  },
  {
   "cell_type": "code",
   "execution_count": null,
   "metadata": {},
   "outputs": [],
   "source": []
  }
 ],
 "metadata": {
  "kernelspec": {
   "display_name": "Python 2",
   "language": "python",
   "name": "python2"
  },
  "language_info": {
   "codemirror_mode": {
    "name": "ipython",
    "version": 2
   },
   "file_extension": ".py",
   "mimetype": "text/x-python",
   "name": "python",
   "nbconvert_exporter": "python",
   "pygments_lexer": "ipython2",
   "version": "2.7.15"
  }
 },
 "nbformat": 4,
 "nbformat_minor": 2
}
