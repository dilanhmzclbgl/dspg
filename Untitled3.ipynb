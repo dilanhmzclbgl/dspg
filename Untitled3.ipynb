{
 "cells": [
  {
   "cell_type": "code",
   "execution_count": 1,
   "metadata": {},
   "outputs": [
    {
     "data": {
      "text/plain": [
       "[35,\n",
       " 25,\n",
       " 15,\n",
       " 10,\n",
       " 'kilo',\n",
       " 70,\n",
       " 50,\n",
       " 30,\n",
       " 20,\n",
       " 'paketsayisi',\n",
       " ['bulgur', 'pirinc', 'makarna', 'bezelye']]"
      ]
     },
     "execution_count": 1,
     "metadata": {},
     "output_type": "execute_result"
    }
   ],
   "source": [
    "\n",
    "stok= [ ['bulgur','pirinc','makarna','bezelye'], 'paketsayisi', 20,30,50,70 , 'kilo', 10,15,25,35 ]\n",
    "stok[::-1]"
   ]
  },
  {
   "cell_type": "code",
   "execution_count": null,
   "metadata": {},
   "outputs": [],
   "source": []
  }
 ],
 "metadata": {
  "kernelspec": {
   "display_name": "Python 2",
   "language": "python",
   "name": "python2"
  },
  "language_info": {
   "codemirror_mode": {
    "name": "ipython",
    "version": 2
   },
   "file_extension": ".py",
   "mimetype": "text/x-python",
   "name": "python",
   "nbconvert_exporter": "python",
   "pygments_lexer": "ipython2",
   "version": "2.7.15"
  }
 },
 "nbformat": 4,
 "nbformat_minor": 2
}
